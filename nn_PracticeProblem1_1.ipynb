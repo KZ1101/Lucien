{
  "nbformat": 4,
  "nbformat_minor": 0,
  "metadata": {
    "colab": {
      "name": "nn_PracticeProblem1_1.ipynb",
      "provenance": [],
      "collapsed_sections": [],
      "include_colab_link": true
    },
    "kernelspec": {
      "name": "python3",
      "display_name": "Python 3"
    },
    "language_info": {
      "name": "python"
    }
  },
  "cells": [
    {
      "cell_type": "markdown",
      "metadata": {
        "id": "view-in-github",
        "colab_type": "text"
      },
      "source": [
        "<a href=\"https://colab.research.google.com/github/KZ1101/Rushian/blob/main/nn_PracticeProblem1_1.ipynb\" target=\"_parent\"><img src=\"https://colab.research.google.com/assets/colab-badge.svg\" alt=\"Open In Colab\"/></a>"
      ]
    },
    {
      "cell_type": "markdown",
      "source": [
        "# 演習問題演習問題1.1のコード試作\n"
      ],
      "metadata": {
        "id": "PUmO1ZMGZrdY"
      }
    },
    {
      "cell_type": "markdown",
      "source": [
        "## 関数の定義"
      ],
      "metadata": {
        "id": "I7JOR4nwZ13z"
      }
    },
    {
      "cell_type": "code",
      "source": [
        "def my_nn(my_pat, ans_pat, reject_dist=10):\n",
        "  d_list = [0]*10 #プロトタイプごとの誤差用\n",
        "  for i in range(25):\n",
        "    for j in range(10):\n",
        "      d_list[j] += (ans_pat[j][i]-my_pat[i])**2 #差を2乗して0と1を足し合わせる\n",
        "  min_dist = min(d_list)\n",
        "  k = d_list.index(min_dist)\n",
        "  kyori = sorted(d_list)[1]-sorted(d_list)[0] #誤差が少ない1位と2位の距離差を調べる\n",
        "  if min_dist < reject_dist and kyori > 2:\n",
        "    print(f\"誤差は{min_dist}\\n答えは{k}\")\n",
        "  elif kyori <= 2:\n",
        "    print(f\"距離差が{kyori}である。\\nよって{k}が最も近いが、Rejected!\")\n",
        "  else:\n",
        "    print(f\"誤差は{min_dist}である。\\nよってRejected!\")"
      ],
      "metadata": {
        "id": "3eXzT7Z6aBAE"
      },
      "execution_count": null,
      "outputs": []
    },
    {
      "cell_type": "markdown",
      "source": [
        "## x1〜x4について実行"
      ],
      "metadata": {
        "id": "G-x0kGCJbQqG"
      }
    },
    {
      "cell_type": "code",
      "execution_count": null,
      "metadata": {
        "colab": {
          "base_uri": "https://localhost:8080/"
        },
        "id": "OweLeh_UZZx4",
        "outputId": "fc02c998-c331-4387-b020-2bc09bec4cb3"
      },
      "outputs": [
        {
          "output_type": "stream",
          "name": "stdout",
          "text": [
            "誤差は3\n",
            "答えは2\n"
          ]
        }
      ],
      "source": [
        "ans_0=[0,1,1,1,0,1,0,0,0,1,1,0,0,0,1,1,0,0,0,1,0,1,1,1,0]\n",
        "ans_1=[0,0,1,0,0,0,0,1,0,0,0,0,1,0,0,0,0,1,0,0,0,0,1,0,0]\n",
        "ans_2=[0,1,1,1,1,1,0,0,1,0,0,0,1,0,0,0,1,0,0,0,1,1,1,1,1]\n",
        "ans_3=[0,1,1,1,0,1,0,0,0,1,0,0,1,1,0,1,0,0,0,1,0,1,1,1,0]\n",
        "ans_4=[0,0,1,0,0,0,1,0,0,0,1,0,0,1,0,1,1,1,1,1,0,0,0,1,0]\n",
        "ans_5=[1,1,1,1,1,1,0,0,0,0,1,1,1,1,0,0,0,0,0,1,1,1,1,1,0]\n",
        "ans_6=[0,0,1,1,0,0,1,0,0,0,1,1,1,1,0,1,0,0,0,1,0,1,1,1,0]\n",
        "ans_7=[1,1,1,1,1,1,0,0,1,0,0,0,1,0,0,0,1,0,0,0,1,0,0,0,0]\n",
        "ans_8=[0,1,1,1,0,1,0,0,0,1,0,1,1,1,0,1,0,0,0,1,0,1,1,1,0]\n",
        "ans_9=[0,1,1,1,0,1,0,0,0,1,0,1,1,1,1,0,0,0,1,0,0,0,1,0,0]\n",
        "\n",
        "pat_x1=[0,1,1,1,0,0,1,0,1,0,0,0,1,0,0,0,1,0,0,0,1,1,1,1,1]\n",
        "\n",
        "my_nn(pat_x1, [ans_0,ans_1,ans_2,ans_3,ans_4,ans_5,ans_6,ans_7,ans_8,ans_9])"
      ]
    },
    {
      "cell_type": "code",
      "source": [
        "pat_x2=[0,1,0,0,0,0,1,0,1,0,1,1,1,1,1,0,0,0,1,0,0,0,0,1,0]\n",
        "\n",
        "my_nn(pat_x2, [ans_0,ans_1,ans_2,ans_3,ans_4,ans_5,ans_6,ans_7,ans_8,ans_9])"
      ],
      "metadata": {
        "colab": {
          "base_uri": "https://localhost:8080/"
        },
        "id": "wLnxDecfbfuq",
        "outputId": "74fc2eea-b31d-468e-f2d0-2ebdb60c914b"
      },
      "execution_count": null,
      "outputs": [
        {
          "output_type": "stream",
          "name": "stdout",
          "text": [
            "距離差が1である。\n",
            "よって9が最も近いが、Rejected!\n"
          ]
        }
      ]
    },
    {
      "cell_type": "code",
      "source": [
        "pat_x3=[0,1,1,1,1,1,0,0,1,0,0,0,0,1,0,0,0,1,0,0,0,1,0,0,0]\n",
        "\n",
        "my_nn(pat_x3, [ans_0,ans_1,ans_2,ans_3,ans_4,ans_5,ans_6,ans_7,ans_8,ans_9])"
      ],
      "metadata": {
        "id": "4e84tC9zcIwX",
        "colab": {
          "base_uri": "https://localhost:8080/"
        },
        "outputId": "3d72d93f-9b52-4eb0-a20d-2d4f05fd7462"
      },
      "execution_count": null,
      "outputs": [
        {
          "output_type": "stream",
          "name": "stdout",
          "text": [
            "距離差が1である。\n",
            "よって7が最も近いが、Rejected!\n"
          ]
        }
      ]
    },
    {
      "cell_type": "code",
      "source": [
        "pat_x4=[0,1,0,1,0,1,1,1,1,1,0,1,0,1,0,0,1,1,1,0,1,1,0,1,1]\n",
        "\n",
        "my_nn(pat_x4, [ans_0,ans_1,ans_2,ans_3,ans_4,ans_5,ans_6,ans_7,ans_8,ans_9])"
      ],
      "metadata": {
        "id": "jE1RJ0UwHEsP",
        "colab": {
          "base_uri": "https://localhost:8080/"
        },
        "outputId": "d500b9b2-3e82-4abe-e6da-d435e626992b"
      },
      "execution_count": null,
      "outputs": [
        {
          "output_type": "stream",
          "name": "stdout",
          "text": [
            "距離差が2である。\n",
            "よって2が最も近いが、Rejected!\n"
          ]
        }
      ]
    }
  ]
}