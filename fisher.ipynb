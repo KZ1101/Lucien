{
  "nbformat": 4,
  "nbformat_minor": 0,
  "metadata": {
    "colab": {
      "name": "fisher.ipynb",
      "provenance": [],
      "authorship_tag": "ABX9TyPdJJlxEVVtoBmBzBk78dg4",
      "include_colab_link": true
    },
    "kernelspec": {
      "name": "python3",
      "display_name": "Python 3"
    },
    "language_info": {
      "name": "python"
    }
  },
  "cells": [
    {
      "cell_type": "markdown",
      "metadata": {
        "id": "view-in-github",
        "colab_type": "text"
      },
      "source": [
        "<a href=\"https://colab.research.google.com/github/KZ1101/Rushian/blob/main/fisher.ipynb\" target=\"_parent\"><img src=\"https://colab.research.google.com/assets/colab-badge.svg\" alt=\"Open In Colab\"/></a>"
      ]
    },
    {
      "cell_type": "code",
      "execution_count": 1,
      "metadata": {
        "colab": {
          "base_uri": "https://localhost:8080/",
          "height": 323
        },
        "id": "7YBRX2SeUkgR",
        "outputId": "de646182-e570-4469-a867-8090f29d45a7"
      },
      "outputs": [
        {
          "output_type": "display_data",
          "data": {
            "text/plain": [
              "<Figure size 432x288 with 1 Axes>"
            ],
            "image/png": "[encoded data removed]"
          },
          "metadata": {
            "needs_background": "light"
          }
        },
        {
          "output_type": "stream",
          "name": "stdout",
          "text": [
            "w = [[-0.03117017]\n",
            " [-0.0347724 ]] \n",
            "\n"
          ]
        }
      ],
      "source": [
        "#coding: utf-8\n",
        "# url (https://qiita.com/pira/items/4c84399671be2cb598e4)\n",
        "\n",
        "import numpy as np\n",
        "import matplotlib.pyplot as plt\n",
        "\n",
        "DIM = 2 #データの次元数\n",
        "\n",
        "#直線の式\n",
        "def f(x, a, b):\n",
        "    return a*x+b\n",
        "\n",
        "#図示\n",
        "def plot(cls1, cls2, line=None):\n",
        "    x,y = cls1.T\n",
        "    plt.plot(x, y, 'bo', ms=3, label='class1')\n",
        "    x, y = cls2.T\n",
        "    plt.plot(x, y, 'ro', ms=3, label='class2')\n",
        "\n",
        "    if not (line is None):\n",
        "        plt.plot(line[0], line[1], 'k-', ms=5)\n",
        "\n",
        "    plt.xlim(-10,10)\n",
        "    plt.ylim(-10,10)\n",
        "\n",
        "    plt.show()\n",
        "\n",
        "def fisher(cls1, cls2):\n",
        "    #リストからnp.arrayに変換（行列の転置や逆行列を扱うため）\n",
        "    cls1 = np.array(cls1)\n",
        "    cls2 = np.array(cls2)\n",
        "\n",
        "    #各クラスの平均値\n",
        "    mean1 = np.mean(cls1, axis=0)\n",
        "    mean2 = np.mean(cls2, axis=0)\n",
        "\n",
        "    #総クラス内共分散行列\n",
        "    sw = np.zeros((DIM,DIM))\n",
        "    for xn in cls1:\n",
        "        xn = xn.reshape(DIM,1)\n",
        "        mean1 = mean1.reshape(DIM,1)\n",
        "        sw += np.dot((xn-mean1),(xn-mean1).T)\n",
        "    for xn in cls2:\n",
        "        xn = xn.reshape(DIM,1)\n",
        "        mean2 = mean2.reshape(DIM,1)\n",
        "        sw += np.dot((xn-mean2),(xn-mean2).T)\n",
        "\n",
        "    #総クラス内共分散行列の逆行列\n",
        "    sw_inv = np.linalg.inv(sw)\n",
        "\n",
        "    #wを求める\n",
        "    w = np.dot(sw_inv,(mean1-mean2))\n",
        "\n",
        "    #決定境界直線を図示する\n",
        "    mean = (mean1 + mean2)/2 #平均値の中点\n",
        "    a = -w[0]/w[1] #wと直交する\n",
        "    b = a*mean[0]+mean[1]\n",
        "    x = np.linspace(-8, 8, 1000)\n",
        "    y = f(x,a,b)\n",
        "\n",
        "    plot(cls1, cls2, (x,y))\n",
        "\n",
        "    return w\n",
        "\n",
        "if __name__ == '__main__':\n",
        "    #テスト用2次元データ\n",
        "    cov = [[3,1],[1,3]] #共分散\n",
        "    cls1 = np.random.multivariate_normal([-5,-5], cov, 50)\n",
        "    cls2 = np.random.multivariate_normal([5,5], cov, 50)\n",
        "\n",
        "    #fisherで線形変換ベクトルwを求める\n",
        "    w = fisher(cls1, cls2)\n",
        "    print('w =', w, '\\n')"
      ]
    }
  ]
}